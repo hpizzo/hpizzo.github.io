{
 "cells": [
  {
   "cell_type": "markdown",
   "id": "annoying-restaurant",
   "metadata": {},
   "source": [
    "# Analysis of NBA Scoring on Christmas Day from 1979 to 2020"
   ]
  },
  {
   "cell_type": "markdown",
   "id": "pressing-celebrity",
   "metadata": {},
   "source": [
    "By Henry Pizzo"
   ]
  },
  {
   "cell_type": "markdown",
   "id": "indie-artist",
   "metadata": {},
   "source": [
    "## Introduction"
   ]
  },
  {
   "cell_type": "markdown",
   "id": "close-january",
   "metadata": {},
   "source": [
    "In this project, I will step through the data science pipeline with the goal of analyzing scoring in NBA games on Christmas Day since 1979.\n",
    "The NBA has been playing games on Christmas Day since 1947. \n",
    "I have always been curious about how athletes feel playing games on certain major holidays, such as Christmas (NBA), or Thanksgiving (NFL). I wonder how a team's mindset is affected by feeling that their work is keeping them from friends and family on a holiday. \n",
    "Perhaps scoring reflects a team's state of mind. Perhaps a team will slump because of the dissapointment of not being with family and friends on a holliday. Perhaps the home team has a major advantage as they can at least be in the same city as their families.\n",
    "Furthermore, there is a general assumption that teams are scoring more points now than ever before in the NBA, with the meteoric rise in popularity of the three point shot (https://www.usatoday.com/story/sports/nba/2018/10/25/nba-scoring-increase-points-up-2018-19-season/1765493002/). We will also explore the trends in scoring over the years 1979 to 2020"
   ]
  },
  {
   "cell_type": "markdown",
   "id": "eight-insertion",
   "metadata": {},
   "source": [
    "# Part 1: Data Collection"
   ]
  },
  {
   "cell_type": "markdown",
   "id": "legal-sunglasses",
   "metadata": {},
   "source": [
    "## Importing Libraries"
   ]
  },
  {
   "cell_type": "markdown",
   "id": "closing-dodge",
   "metadata": {},
   "source": [
    "Here we will import the libraries that we need to accomplish our tasks. Libraries like requests, json, and BeautifulSoup are used to collect data and put it into a pandas dataframe. We will also import libraries used for plotting and Machine Learning analysis."
   ]
  },
  {
   "cell_type": "code",
   "execution_count": 46,
   "id": "registered-threshold",
   "metadata": {},
   "outputs": [],
   "source": [
    "import requests\n",
    "import json\n",
    "import numpy as np\n",
    "from bs4 import BeautifulSoup\n",
    "import pandas as pd\n",
    "import matplotlib.pyplot as plt\n",
    "from sklearn import linear_model\n",
    "from sklearn.linear_model import LinearRegression"
   ]
  },
  {
   "cell_type": "markdown",
   "id": "lesser-shareware",
   "metadata": {},
   "source": [
    "## Data Scraping"
   ]
  },
  {
   "cell_type": "markdown",
   "id": "specified-testing",
   "metadata": {},
   "source": [
    "We will be getting information from the website https://www.balldontlie.io/ which is an API containing data on the NBA. This API makes it very easy for us to gather data, all we have to do is navigate the website to find the data that we want and use the link provided. Here is an example using requests to get a table of all of the teams in the NBA:"
   ]
  },
  {
   "cell_type": "code",
   "execution_count": 47,
   "id": "current-while",
   "metadata": {},
   "outputs": [
    {
     "data": {
      "text/html": [
       "<div>\n",
       "<style scoped>\n",
       "    .dataframe tbody tr th:only-of-type {\n",
       "        vertical-align: middle;\n",
       "    }\n",
       "\n",
       "    .dataframe tbody tr th {\n",
       "        vertical-align: top;\n",
       "    }\n",
       "\n",
       "    .dataframe thead th {\n",
       "        text-align: right;\n",
       "    }\n",
       "</style>\n",
       "<table border=\"1\" class=\"dataframe\">\n",
       "  <thead>\n",
       "    <tr style=\"text-align: right;\">\n",
       "      <th></th>\n",
       "      <th>id</th>\n",
       "      <th>abbreviation</th>\n",
       "      <th>city</th>\n",
       "      <th>conference</th>\n",
       "      <th>division</th>\n",
       "      <th>full_name</th>\n",
       "      <th>name</th>\n",
       "    </tr>\n",
       "  </thead>\n",
       "  <tbody>\n",
       "    <tr>\n",
       "      <th>0</th>\n",
       "      <td>1</td>\n",
       "      <td>ATL</td>\n",
       "      <td>Atlanta</td>\n",
       "      <td>East</td>\n",
       "      <td>Southeast</td>\n",
       "      <td>Atlanta Hawks</td>\n",
       "      <td>Hawks</td>\n",
       "    </tr>\n",
       "    <tr>\n",
       "      <th>1</th>\n",
       "      <td>2</td>\n",
       "      <td>BOS</td>\n",
       "      <td>Boston</td>\n",
       "      <td>East</td>\n",
       "      <td>Atlantic</td>\n",
       "      <td>Boston Celtics</td>\n",
       "      <td>Celtics</td>\n",
       "    </tr>\n",
       "    <tr>\n",
       "      <th>2</th>\n",
       "      <td>3</td>\n",
       "      <td>BKN</td>\n",
       "      <td>Brooklyn</td>\n",
       "      <td>East</td>\n",
       "      <td>Atlantic</td>\n",
       "      <td>Brooklyn Nets</td>\n",
       "      <td>Nets</td>\n",
       "    </tr>\n",
       "    <tr>\n",
       "      <th>3</th>\n",
       "      <td>4</td>\n",
       "      <td>CHA</td>\n",
       "      <td>Charlotte</td>\n",
       "      <td>East</td>\n",
       "      <td>Southeast</td>\n",
       "      <td>Charlotte Hornets</td>\n",
       "      <td>Hornets</td>\n",
       "    </tr>\n",
       "    <tr>\n",
       "      <th>4</th>\n",
       "      <td>5</td>\n",
       "      <td>CHI</td>\n",
       "      <td>Chicago</td>\n",
       "      <td>East</td>\n",
       "      <td>Central</td>\n",
       "      <td>Chicago Bulls</td>\n",
       "      <td>Bulls</td>\n",
       "    </tr>\n",
       "  </tbody>\n",
       "</table>\n",
       "</div>"
      ],
      "text/plain": [
       "   id abbreviation       city conference   division          full_name  \\\n",
       "0   1          ATL    Atlanta       East  Southeast      Atlanta Hawks   \n",
       "1   2          BOS     Boston       East   Atlantic     Boston Celtics   \n",
       "2   3          BKN   Brooklyn       East   Atlantic      Brooklyn Nets   \n",
       "3   4          CHA  Charlotte       East  Southeast  Charlotte Hornets   \n",
       "4   5          CHI    Chicago       East    Central      Chicago Bulls   \n",
       "\n",
       "      name  \n",
       "0    Hawks  \n",
       "1  Celtics  \n",
       "2     Nets  \n",
       "3  Hornets  \n",
       "4    Bulls  "
      ]
     },
     "execution_count": 47,
     "metadata": {},
     "output_type": "execute_result"
    }
   ],
   "source": [
    "#use requests to get information from the website\n",
    "response = requests.get('https://www.balldontlie.io/api/v1/teams')\n",
    "\n",
    "#BeautifulSoup makes the content look nice so we can look through it for relevant information\n",
    "#or some insight into the structure of the data\n",
    "root = BeautifulSoup(response.content)\n",
    "\n",
    "#we can see from the structure of \"root\" that the API gave us a JSON object. The API is also\n",
    "#very good at reminding us that the commands return JSON objects. Herewe attempt to transfer \n",
    "#the JSON into a pandas dataframe using json.loads(), and finally pd.json_normalize to \n",
    "#fix the columns\n",
    "data = json.loads(response.text)\n",
    "teams_df = pd.json_normalize(data, 'data')\n",
    "teams_df.head()"
   ]
  },
  {
   "cell_type": "markdown",
   "id": "prospective-saint",
   "metadata": {},
   "source": [
    "Now that we are confident in our data gathering techniques and have explored the API, we can work on gathering information more relevant to our mission. Here we will take scoring stats from all games played on Christmas Day (December 25th) since 1979, using a \"dates\" query parameter specified by the API."
   ]
  },
  {
   "cell_type": "code",
   "execution_count": 48,
   "id": "cardiovascular-leone",
   "metadata": {},
   "outputs": [
    {
     "data": {
      "text/html": [
       "<div>\n",
       "<style scoped>\n",
       "    .dataframe tbody tr th:only-of-type {\n",
       "        vertical-align: middle;\n",
       "    }\n",
       "\n",
       "    .dataframe tbody tr th {\n",
       "        vertical-align: top;\n",
       "    }\n",
       "\n",
       "    .dataframe thead th {\n",
       "        text-align: right;\n",
       "    }\n",
       "</style>\n",
       "<table border=\"1\" class=\"dataframe\">\n",
       "  <thead>\n",
       "    <tr style=\"text-align: right;\">\n",
       "      <th></th>\n",
       "      <th>id</th>\n",
       "      <th>date</th>\n",
       "      <th>home_team_score</th>\n",
       "      <th>period</th>\n",
       "      <th>postseason</th>\n",
       "      <th>season</th>\n",
       "      <th>status</th>\n",
       "      <th>time</th>\n",
       "      <th>visitor_team_score</th>\n",
       "      <th>home_team.id</th>\n",
       "      <th>...</th>\n",
       "      <th>home_team.division</th>\n",
       "      <th>home_team.full_name</th>\n",
       "      <th>home_team.name</th>\n",
       "      <th>visitor_team.id</th>\n",
       "      <th>visitor_team.abbreviation</th>\n",
       "      <th>visitor_team.city</th>\n",
       "      <th>visitor_team.conference</th>\n",
       "      <th>visitor_team.division</th>\n",
       "      <th>visitor_team.full_name</th>\n",
       "      <th>visitor_team.name</th>\n",
       "    </tr>\n",
       "  </thead>\n",
       "  <tbody>\n",
       "    <tr>\n",
       "      <th>0</th>\n",
       "      <td>35901</td>\n",
       "      <td>1979-12-25T00:00:00.000Z</td>\n",
       "      <td>131</td>\n",
       "      <td>4</td>\n",
       "      <td>False</td>\n",
       "      <td>1979</td>\n",
       "      <td>Final</td>\n",
       "      <td></td>\n",
       "      <td>102</td>\n",
       "      <td>20</td>\n",
       "      <td>...</td>\n",
       "      <td>Atlantic</td>\n",
       "      <td>New York Knicks</td>\n",
       "      <td>Knicks</td>\n",
       "      <td>3</td>\n",
       "      <td>BKN</td>\n",
       "      <td>Brooklyn</td>\n",
       "      <td>East</td>\n",
       "      <td>Atlantic</td>\n",
       "      <td>Brooklyn Nets</td>\n",
       "      <td>Nets</td>\n",
       "    </tr>\n",
       "    <tr>\n",
       "      <th>1</th>\n",
       "      <td>35951</td>\n",
       "      <td>1979-12-25T00:00:00.000Z</td>\n",
       "      <td>111</td>\n",
       "      <td>4</td>\n",
       "      <td>False</td>\n",
       "      <td>1979</td>\n",
       "      <td>Final</td>\n",
       "      <td></td>\n",
       "      <td>101</td>\n",
       "      <td>6</td>\n",
       "      <td>...</td>\n",
       "      <td>Central</td>\n",
       "      <td>Cleveland Cavaliers</td>\n",
       "      <td>Cavaliers</td>\n",
       "      <td>9</td>\n",
       "      <td>DET</td>\n",
       "      <td>Detroit</td>\n",
       "      <td>East</td>\n",
       "      <td>Central</td>\n",
       "      <td>Detroit Pistons</td>\n",
       "      <td>Pistons</td>\n",
       "    </tr>\n",
       "    <tr>\n",
       "      <th>2</th>\n",
       "      <td>35985</td>\n",
       "      <td>1979-12-25T00:00:00.000Z</td>\n",
       "      <td>122</td>\n",
       "      <td>4</td>\n",
       "      <td>False</td>\n",
       "      <td>1979</td>\n",
       "      <td>Final</td>\n",
       "      <td></td>\n",
       "      <td>111</td>\n",
       "      <td>29</td>\n",
       "      <td>...</td>\n",
       "      <td>Northwest</td>\n",
       "      <td>Utah Jazz</td>\n",
       "      <td>Jazz</td>\n",
       "      <td>8</td>\n",
       "      <td>DEN</td>\n",
       "      <td>Denver</td>\n",
       "      <td>West</td>\n",
       "      <td>Northwest</td>\n",
       "      <td>Denver Nuggets</td>\n",
       "      <td>Nuggets</td>\n",
       "    </tr>\n",
       "    <tr>\n",
       "      <th>3</th>\n",
       "      <td>35986</td>\n",
       "      <td>1979-12-25T00:00:00.000Z</td>\n",
       "      <td>113</td>\n",
       "      <td>4</td>\n",
       "      <td>False</td>\n",
       "      <td>1979</td>\n",
       "      <td>Final</td>\n",
       "      <td></td>\n",
       "      <td>91</td>\n",
       "      <td>25</td>\n",
       "      <td>...</td>\n",
       "      <td>Northwest</td>\n",
       "      <td>Portland Trail Blazers</td>\n",
       "      <td>Trail Blazers</td>\n",
       "      <td>10</td>\n",
       "      <td>GSW</td>\n",
       "      <td>Golden State</td>\n",
       "      <td>West</td>\n",
       "      <td>Pacific</td>\n",
       "      <td>Golden State Warriors</td>\n",
       "      <td>Warriors</td>\n",
       "    </tr>\n",
       "    <tr>\n",
       "      <th>4</th>\n",
       "      <td>35987</td>\n",
       "      <td>1979-12-25T00:00:00.000Z</td>\n",
       "      <td>92</td>\n",
       "      <td>4</td>\n",
       "      <td>False</td>\n",
       "      <td>1979</td>\n",
       "      <td>Final</td>\n",
       "      <td></td>\n",
       "      <td>95</td>\n",
       "      <td>30</td>\n",
       "      <td>...</td>\n",
       "      <td>Southeast</td>\n",
       "      <td>Washington Wizards</td>\n",
       "      <td>Wizards</td>\n",
       "      <td>23</td>\n",
       "      <td>PHI</td>\n",
       "      <td>Philadelphia</td>\n",
       "      <td>East</td>\n",
       "      <td>Atlantic</td>\n",
       "      <td>Philadelphia 76ers</td>\n",
       "      <td>76ers</td>\n",
       "    </tr>\n",
       "    <tr>\n",
       "      <th>...</th>\n",
       "      <td>...</td>\n",
       "      <td>...</td>\n",
       "      <td>...</td>\n",
       "      <td>...</td>\n",
       "      <td>...</td>\n",
       "      <td>...</td>\n",
       "      <td>...</td>\n",
       "      <td>...</td>\n",
       "      <td>...</td>\n",
       "      <td>...</td>\n",
       "      <td>...</td>\n",
       "      <td>...</td>\n",
       "      <td>...</td>\n",
       "      <td>...</td>\n",
       "      <td>...</td>\n",
       "      <td>...</td>\n",
       "      <td>...</td>\n",
       "      <td>...</td>\n",
       "      <td>...</td>\n",
       "      <td>...</td>\n",
       "      <td>...</td>\n",
       "    </tr>\n",
       "    <tr>\n",
       "      <th>127</th>\n",
       "      <td>127517</td>\n",
       "      <td>2020-12-25T00:00:00.000Z</td>\n",
       "      <td>95</td>\n",
       "      <td>4</td>\n",
       "      <td>False</td>\n",
       "      <td>2020</td>\n",
       "      <td>Final</td>\n",
       "      <td></td>\n",
       "      <td>123</td>\n",
       "      <td>2</td>\n",
       "      <td>...</td>\n",
       "      <td>Atlantic</td>\n",
       "      <td>Boston Celtics</td>\n",
       "      <td>Celtics</td>\n",
       "      <td>3</td>\n",
       "      <td>BKN</td>\n",
       "      <td>Brooklyn</td>\n",
       "      <td>East</td>\n",
       "      <td>Atlantic</td>\n",
       "      <td>Brooklyn Nets</td>\n",
       "      <td>Nets</td>\n",
       "    </tr>\n",
       "    <tr>\n",
       "      <th>128</th>\n",
       "      <td>127518</td>\n",
       "      <td>2020-12-25T00:00:00.000Z</td>\n",
       "      <td>108</td>\n",
       "      <td>4</td>\n",
       "      <td>False</td>\n",
       "      <td>2020</td>\n",
       "      <td>Final</td>\n",
       "      <td></td>\n",
       "      <td>121</td>\n",
       "      <td>8</td>\n",
       "      <td>...</td>\n",
       "      <td>Northwest</td>\n",
       "      <td>Denver Nuggets</td>\n",
       "      <td>Nuggets</td>\n",
       "      <td>13</td>\n",
       "      <td>LAC</td>\n",
       "      <td>LA</td>\n",
       "      <td>West</td>\n",
       "      <td>Pacific</td>\n",
       "      <td>LA Clippers</td>\n",
       "      <td>Clippers</td>\n",
       "    </tr>\n",
       "    <tr>\n",
       "      <th>129</th>\n",
       "      <td>127519</td>\n",
       "      <td>2020-12-25T00:00:00.000Z</td>\n",
       "      <td>111</td>\n",
       "      <td>4</td>\n",
       "      <td>False</td>\n",
       "      <td>2020</td>\n",
       "      <td>Final</td>\n",
       "      <td></td>\n",
       "      <td>98</td>\n",
       "      <td>16</td>\n",
       "      <td>...</td>\n",
       "      <td>Southeast</td>\n",
       "      <td>Miami Heat</td>\n",
       "      <td>Heat</td>\n",
       "      <td>19</td>\n",
       "      <td>NOP</td>\n",
       "      <td>New Orleans</td>\n",
       "      <td>West</td>\n",
       "      <td>Southwest</td>\n",
       "      <td>New Orleans Pelicans</td>\n",
       "      <td>Pelicans</td>\n",
       "    </tr>\n",
       "    <tr>\n",
       "      <th>130</th>\n",
       "      <td>127520</td>\n",
       "      <td>2020-12-25T00:00:00.000Z</td>\n",
       "      <td>138</td>\n",
       "      <td>4</td>\n",
       "      <td>False</td>\n",
       "      <td>2020</td>\n",
       "      <td>Final</td>\n",
       "      <td></td>\n",
       "      <td>115</td>\n",
       "      <td>14</td>\n",
       "      <td>...</td>\n",
       "      <td>Pacific</td>\n",
       "      <td>Los Angeles Lakers</td>\n",
       "      <td>Lakers</td>\n",
       "      <td>7</td>\n",
       "      <td>DAL</td>\n",
       "      <td>Dallas</td>\n",
       "      <td>West</td>\n",
       "      <td>Southwest</td>\n",
       "      <td>Dallas Mavericks</td>\n",
       "      <td>Mavericks</td>\n",
       "    </tr>\n",
       "    <tr>\n",
       "      <th>131</th>\n",
       "      <td>127521</td>\n",
       "      <td>2020-12-25T00:00:00.000Z</td>\n",
       "      <td>138</td>\n",
       "      <td>4</td>\n",
       "      <td>False</td>\n",
       "      <td>2020</td>\n",
       "      <td>Final</td>\n",
       "      <td></td>\n",
       "      <td>99</td>\n",
       "      <td>17</td>\n",
       "      <td>...</td>\n",
       "      <td>Central</td>\n",
       "      <td>Milwaukee Bucks</td>\n",
       "      <td>Bucks</td>\n",
       "      <td>10</td>\n",
       "      <td>GSW</td>\n",
       "      <td>Golden State</td>\n",
       "      <td>West</td>\n",
       "      <td>Pacific</td>\n",
       "      <td>Golden State Warriors</td>\n",
       "      <td>Warriors</td>\n",
       "    </tr>\n",
       "  </tbody>\n",
       "</table>\n",
       "<p>132 rows × 23 columns</p>\n",
       "</div>"
      ],
      "text/plain": [
       "         id                      date  home_team_score  period  postseason  \\\n",
       "0     35901  1979-12-25T00:00:00.000Z              131       4       False   \n",
       "1     35951  1979-12-25T00:00:00.000Z              111       4       False   \n",
       "2     35985  1979-12-25T00:00:00.000Z              122       4       False   \n",
       "3     35986  1979-12-25T00:00:00.000Z              113       4       False   \n",
       "4     35987  1979-12-25T00:00:00.000Z               92       4       False   \n",
       "..      ...                       ...              ...     ...         ...   \n",
       "127  127517  2020-12-25T00:00:00.000Z               95       4       False   \n",
       "128  127518  2020-12-25T00:00:00.000Z              108       4       False   \n",
       "129  127519  2020-12-25T00:00:00.000Z              111       4       False   \n",
       "130  127520  2020-12-25T00:00:00.000Z              138       4       False   \n",
       "131  127521  2020-12-25T00:00:00.000Z              138       4       False   \n",
       "\n",
       "     season status time  visitor_team_score  home_team.id  ...  \\\n",
       "0      1979  Final                      102            20  ...   \n",
       "1      1979  Final                      101             6  ...   \n",
       "2      1979  Final                      111            29  ...   \n",
       "3      1979  Final                       91            25  ...   \n",
       "4      1979  Final                       95            30  ...   \n",
       "..      ...    ...  ...                 ...           ...  ...   \n",
       "127    2020  Final                      123             2  ...   \n",
       "128    2020  Final                      121             8  ...   \n",
       "129    2020  Final                       98            16  ...   \n",
       "130    2020  Final                      115            14  ...   \n",
       "131    2020  Final                       99            17  ...   \n",
       "\n",
       "    home_team.division     home_team.full_name home_team.name visitor_team.id  \\\n",
       "0             Atlantic         New York Knicks         Knicks               3   \n",
       "1              Central     Cleveland Cavaliers      Cavaliers               9   \n",
       "2            Northwest               Utah Jazz           Jazz               8   \n",
       "3            Northwest  Portland Trail Blazers  Trail Blazers              10   \n",
       "4            Southeast      Washington Wizards        Wizards              23   \n",
       "..                 ...                     ...            ...             ...   \n",
       "127           Atlantic          Boston Celtics        Celtics               3   \n",
       "128          Northwest          Denver Nuggets        Nuggets              13   \n",
       "129          Southeast              Miami Heat           Heat              19   \n",
       "130            Pacific      Los Angeles Lakers         Lakers               7   \n",
       "131            Central         Milwaukee Bucks          Bucks              10   \n",
       "\n",
       "    visitor_team.abbreviation visitor_team.city  visitor_team.conference  \\\n",
       "0                         BKN          Brooklyn                     East   \n",
       "1                         DET           Detroit                     East   \n",
       "2                         DEN            Denver                     West   \n",
       "3                         GSW      Golden State                     West   \n",
       "4                         PHI      Philadelphia                     East   \n",
       "..                        ...               ...                      ...   \n",
       "127                       BKN          Brooklyn                     East   \n",
       "128                       LAC                LA                     West   \n",
       "129                       NOP       New Orleans                     West   \n",
       "130                       DAL            Dallas                     West   \n",
       "131                       GSW      Golden State                     West   \n",
       "\n",
       "    visitor_team.division visitor_team.full_name visitor_team.name  \n",
       "0                Atlantic          Brooklyn Nets              Nets  \n",
       "1                 Central        Detroit Pistons           Pistons  \n",
       "2               Northwest         Denver Nuggets           Nuggets  \n",
       "3                 Pacific  Golden State Warriors          Warriors  \n",
       "4                Atlantic     Philadelphia 76ers             76ers  \n",
       "..                    ...                    ...               ...  \n",
       "127              Atlantic          Brooklyn Nets              Nets  \n",
       "128               Pacific            LA Clippers          Clippers  \n",
       "129             Southwest   New Orleans Pelicans          Pelicans  \n",
       "130             Southwest       Dallas Mavericks         Mavericks  \n",
       "131               Pacific  Golden State Warriors          Warriors  \n",
       "\n",
       "[132 rows x 23 columns]"
      ]
     },
     "execution_count": 48,
     "metadata": {},
     "output_type": "execute_result"
    }
   ],
   "source": [
    "#data from balldontlie for games on Christmas day since 1979\n",
    "\n",
    "#start by getting data from 1979 to create a table that we can then append to\n",
    "url = 'https://www.balldontlie.io/api/v1/games?per_page=100&dates[]=1979-12-25'\n",
    "response = requests.get(url)\n",
    "root = BeautifulSoup(response.content)\n",
    "data = json.loads(response.text)\n",
    "table = pd.json_normalize(data, 'data')\n",
    "\n",
    "#loop through subsequent years, appending data to the table each time\n",
    "for year in range(1980, 2021):\n",
    "    \n",
    "    #adding the target year into our query string\n",
    "    string ='https://www.balldontlie.io/api/v1/games?per_page=100&dates[]='+str(year)+'-12-25'\n",
    "    \n",
    "    #carry on with the rest of the data collection\n",
    "    response = requests.get(string)\n",
    "    root = BeautifulSoup(response.content)\n",
    "    data = json.loads(response.text)\n",
    "    \n",
    "    #append the table for target year to the table of previous years\n",
    "    table = table.append(pd.json_normalize(data, 'data'), ignore_index=True)\n",
    "table"
   ]
  },
  {
   "cell_type": "markdown",
   "id": "expressed-trash",
   "metadata": {},
   "source": [
    "# Part 2: Data Management / Representation"
   ]
  },
  {
   "cell_type": "markdown",
   "id": "regular-stationery",
   "metadata": {},
   "source": [
    "Data Management, sometimes called Data Tidying, is all about making the information we have from the source into \"nicer\", more workable data. As we can see from the table above, there are so many columns that we can't even see all of them. We can access the columns field of our table to see the names of all of the columns: "
   ]
  },
  {
   "cell_type": "code",
   "execution_count": 49,
   "id": "played-cycle",
   "metadata": {},
   "outputs": [
    {
     "data": {
      "text/plain": [
       "Index(['id', 'date', 'home_team_score', 'period', 'postseason', 'season',\n",
       "       'status', 'time', 'visitor_team_score', 'home_team.id',\n",
       "       'home_team.abbreviation', 'home_team.city', 'home_team.conference',\n",
       "       'home_team.division', 'home_team.full_name', 'home_team.name',\n",
       "       'visitor_team.id', 'visitor_team.abbreviation', 'visitor_team.city',\n",
       "       'visitor_team.conference', 'visitor_team.division',\n",
       "       'visitor_team.full_name', 'visitor_team.name'],\n",
       "      dtype='object')"
      ]
     },
     "execution_count": 49,
     "metadata": {},
     "output_type": "execute_result"
    }
   ],
   "source": [
    "table.columns"
   ]
  },
  {
   "cell_type": "markdown",
   "id": "technological-tokyo",
   "metadata": {},
   "source": [
    "We can see above that there are a lot of columns, and many of them are redundant and useless. For example, we don't need so many columns of team identifiers. It might be easier to look through and choose the columns we want to KEEP, rather than looking for columns to get rid of. The most relevant info to our cause would be the date, home and visiting team scores, and perhaps the team names. We will also keep two other columns (renamed dummy1 and dummy2) so that we do not have to create new ones later on, we can simply change these:"
   ]
  },
  {
   "cell_type": "code",
   "execution_count": 50,
   "id": "sharing-arabic",
   "metadata": {},
   "outputs": [
    {
     "data": {
      "text/html": [
       "<div>\n",
       "<style scoped>\n",
       "    .dataframe tbody tr th:only-of-type {\n",
       "        vertical-align: middle;\n",
       "    }\n",
       "\n",
       "    .dataframe tbody tr th {\n",
       "        vertical-align: top;\n",
       "    }\n",
       "\n",
       "    .dataframe thead th {\n",
       "        text-align: right;\n",
       "    }\n",
       "</style>\n",
       "<table border=\"1\" class=\"dataframe\">\n",
       "  <thead>\n",
       "    <tr style=\"text-align: right;\">\n",
       "      <th></th>\n",
       "      <th>date</th>\n",
       "      <th>season</th>\n",
       "      <th>home_team.name</th>\n",
       "      <th>home_team_score</th>\n",
       "      <th>away_team.name</th>\n",
       "      <th>away_team_score</th>\n",
       "      <th>dummy1</th>\n",
       "      <th>dummy2</th>\n",
       "    </tr>\n",
       "  </thead>\n",
       "  <tbody>\n",
       "    <tr>\n",
       "      <th>0</th>\n",
       "      <td>1979-12-25T00:00:00.000Z</td>\n",
       "      <td>1979</td>\n",
       "      <td>Knicks</td>\n",
       "      <td>131</td>\n",
       "      <td>Nets</td>\n",
       "      <td>102</td>\n",
       "      <td>NYK</td>\n",
       "      <td>BKN</td>\n",
       "    </tr>\n",
       "    <tr>\n",
       "      <th>1</th>\n",
       "      <td>1979-12-25T00:00:00.000Z</td>\n",
       "      <td>1979</td>\n",
       "      <td>Cavaliers</td>\n",
       "      <td>111</td>\n",
       "      <td>Pistons</td>\n",
       "      <td>101</td>\n",
       "      <td>CLE</td>\n",
       "      <td>DET</td>\n",
       "    </tr>\n",
       "    <tr>\n",
       "      <th>2</th>\n",
       "      <td>1979-12-25T00:00:00.000Z</td>\n",
       "      <td>1979</td>\n",
       "      <td>Jazz</td>\n",
       "      <td>122</td>\n",
       "      <td>Nuggets</td>\n",
       "      <td>111</td>\n",
       "      <td>UTA</td>\n",
       "      <td>DEN</td>\n",
       "    </tr>\n",
       "    <tr>\n",
       "      <th>3</th>\n",
       "      <td>1979-12-25T00:00:00.000Z</td>\n",
       "      <td>1979</td>\n",
       "      <td>Trail Blazers</td>\n",
       "      <td>113</td>\n",
       "      <td>Warriors</td>\n",
       "      <td>91</td>\n",
       "      <td>POR</td>\n",
       "      <td>GSW</td>\n",
       "    </tr>\n",
       "    <tr>\n",
       "      <th>4</th>\n",
       "      <td>1979-12-25T00:00:00.000Z</td>\n",
       "      <td>1979</td>\n",
       "      <td>Wizards</td>\n",
       "      <td>92</td>\n",
       "      <td>76ers</td>\n",
       "      <td>95</td>\n",
       "      <td>WAS</td>\n",
       "      <td>PHI</td>\n",
       "    </tr>\n",
       "  </tbody>\n",
       "</table>\n",
       "</div>"
      ],
      "text/plain": [
       "                       date  season home_team.name  home_team_score  \\\n",
       "0  1979-12-25T00:00:00.000Z    1979         Knicks              131   \n",
       "1  1979-12-25T00:00:00.000Z    1979      Cavaliers              111   \n",
       "2  1979-12-25T00:00:00.000Z    1979           Jazz              122   \n",
       "3  1979-12-25T00:00:00.000Z    1979  Trail Blazers              113   \n",
       "4  1979-12-25T00:00:00.000Z    1979        Wizards               92   \n",
       "\n",
       "  away_team.name  away_team_score dummy1 dummy2  \n",
       "0           Nets              102    NYK    BKN  \n",
       "1        Pistons              101    CLE    DET  \n",
       "2        Nuggets              111    UTA    DEN  \n",
       "3       Warriors               91    POR    GSW  \n",
       "4          76ers               95    WAS    PHI  "
      ]
     },
     "execution_count": 50,
     "metadata": {},
     "output_type": "execute_result"
    }
   ],
   "source": [
    "#keep relevant info, change 'visitor' to 'away'\n",
    "table = table[['date', 'season', 'home_team.name', 'home_team_score', \n",
    "                     'visitor_team.name', 'visitor_team_score', \n",
    "               \n",
    "               #below are placeholder cols for averages\n",
    "               'home_team.abbreviation', 'visitor_team.abbreviation']]\n",
    "\n",
    "table.columns = ['date', 'season', 'home_team.name', 'home_team_score', \n",
    "                     'away_team.name', 'away_team_score', \n",
    "                  \n",
    "                  #rename placeholder cols\n",
    "                  'dummy1', 'dummy2']\n",
    "table.head()"
   ]
  },
  {
   "cell_type": "markdown",
   "id": "tribal-vault",
   "metadata": {},
   "source": [
    "We want the average scoring for each year, which we can add into the placeholder column:"
   ]
  },
  {
   "cell_type": "code",
   "execution_count": 51,
   "id": "digital-cisco",
   "metadata": {},
   "outputs": [
    {
     "data": {
      "text/html": [
       "<div>\n",
       "<style scoped>\n",
       "    .dataframe tbody tr th:only-of-type {\n",
       "        vertical-align: middle;\n",
       "    }\n",
       "\n",
       "    .dataframe tbody tr th {\n",
       "        vertical-align: top;\n",
       "    }\n",
       "\n",
       "    .dataframe thead th {\n",
       "        text-align: right;\n",
       "    }\n",
       "</style>\n",
       "<table border=\"1\" class=\"dataframe\">\n",
       "  <thead>\n",
       "    <tr style=\"text-align: right;\">\n",
       "      <th></th>\n",
       "      <th>date</th>\n",
       "      <th>season</th>\n",
       "      <th>home_team.name</th>\n",
       "      <th>home_team_score</th>\n",
       "      <th>away_team.name</th>\n",
       "      <th>away_team_score</th>\n",
       "      <th>avg_home_score</th>\n",
       "      <th>avg_away_score</th>\n",
       "    </tr>\n",
       "  </thead>\n",
       "  <tbody>\n",
       "    <tr>\n",
       "      <th>0</th>\n",
       "      <td>1979-12-25T00:00:00.000Z</td>\n",
       "      <td>1979</td>\n",
       "      <td>Knicks</td>\n",
       "      <td>131</td>\n",
       "      <td>Nets</td>\n",
       "      <td>102</td>\n",
       "      <td>113.8</td>\n",
       "      <td>100</td>\n",
       "    </tr>\n",
       "    <tr>\n",
       "      <th>1</th>\n",
       "      <td>1979-12-25T00:00:00.000Z</td>\n",
       "      <td>1979</td>\n",
       "      <td>Cavaliers</td>\n",
       "      <td>111</td>\n",
       "      <td>Pistons</td>\n",
       "      <td>101</td>\n",
       "      <td>113.8</td>\n",
       "      <td>100</td>\n",
       "    </tr>\n",
       "    <tr>\n",
       "      <th>2</th>\n",
       "      <td>1979-12-25T00:00:00.000Z</td>\n",
       "      <td>1979</td>\n",
       "      <td>Jazz</td>\n",
       "      <td>122</td>\n",
       "      <td>Nuggets</td>\n",
       "      <td>111</td>\n",
       "      <td>113.8</td>\n",
       "      <td>100</td>\n",
       "    </tr>\n",
       "    <tr>\n",
       "      <th>3</th>\n",
       "      <td>1979-12-25T00:00:00.000Z</td>\n",
       "      <td>1979</td>\n",
       "      <td>Trail Blazers</td>\n",
       "      <td>113</td>\n",
       "      <td>Warriors</td>\n",
       "      <td>91</td>\n",
       "      <td>113.8</td>\n",
       "      <td>100</td>\n",
       "    </tr>\n",
       "    <tr>\n",
       "      <th>4</th>\n",
       "      <td>1979-12-25T00:00:00.000Z</td>\n",
       "      <td>1979</td>\n",
       "      <td>Wizards</td>\n",
       "      <td>92</td>\n",
       "      <td>76ers</td>\n",
       "      <td>95</td>\n",
       "      <td>113.8</td>\n",
       "      <td>100</td>\n",
       "    </tr>\n",
       "  </tbody>\n",
       "</table>\n",
       "</div>"
      ],
      "text/plain": [
       "                       date  season home_team.name  home_team_score  \\\n",
       "0  1979-12-25T00:00:00.000Z    1979         Knicks              131   \n",
       "1  1979-12-25T00:00:00.000Z    1979      Cavaliers              111   \n",
       "2  1979-12-25T00:00:00.000Z    1979           Jazz              122   \n",
       "3  1979-12-25T00:00:00.000Z    1979  Trail Blazers              113   \n",
       "4  1979-12-25T00:00:00.000Z    1979        Wizards               92   \n",
       "\n",
       "  away_team.name  away_team_score avg_home_score avg_away_score  \n",
       "0           Nets              102          113.8            100  \n",
       "1        Pistons              101          113.8            100  \n",
       "2        Nuggets              111          113.8            100  \n",
       "3       Warriors               91          113.8            100  \n",
       "4          76ers               95          113.8            100  "
      ]
     },
     "execution_count": 51,
     "metadata": {},
     "output_type": "execute_result"
    }
   ],
   "source": [
    "#get average score per season for home and away teams\n",
    "avg_home_score = []\n",
    "avg_away_score = []\n",
    "\n",
    "#loop through seasons\n",
    "for season in range(1979, 2021):\n",
    "    \n",
    "    #keep only games in target season\n",
    "    temp_table = table[table['season'] == season]\n",
    "    \n",
    "    #add the sum of all of the home team scores divided by the number of games to the array\n",
    "    avg_home_score.append(temp_table['home_team_score'].sum() / \n",
    "                          (1 if len(temp_table.index) == 0 else len(temp_table.index)))\n",
    "    \n",
    "    #add the sum of all of the away team scores divided by the number of games to the array\n",
    "    avg_away_score.append(temp_table['away_team_score'].sum() / \n",
    "                          (1 if len(temp_table.index) == 0 else len(temp_table.index)))\n",
    "    \n",
    "#add cols for average scores per season\n",
    "for index, row in table.iterrows():\n",
    "    table.at[index,'dummy1'] = avg_home_score[row['season']-1979]\n",
    "    table.at[index,'dummy2'] = avg_away_score[row['season']-1979]\n",
    "\n",
    "table.columns = ['date', 'season', 'home_team.name', 'home_team_score', \n",
    "                     'away_team.name', 'away_team_score', \n",
    "                  \n",
    "                  #rename placeholder cols\n",
    "                  'avg_home_score', 'avg_away_score']\n",
    "table.head()"
   ]
  },
  {
   "cell_type": "markdown",
   "id": "understood-handle",
   "metadata": {},
   "source": [
    "# Part 3: Data Visualization and Analysis"
   ]
  },
  {
   "cell_type": "markdown",
   "id": "raised-natural",
   "metadata": {},
   "source": [
    "Now that we have collected our data and it is tidy and ready to use, we can start with some simple data visualization to get an idea of what we are looking at and possibly to form hypotheses. Let's start with a simple scatter plot of home team score versus season, and away team score versus season:"
   ]
  },
  {
   "cell_type": "code",
   "execution_count": 52,
   "id": "integrated-percentage",
   "metadata": {},
   "outputs": [
    {
     "data": {
      "text/plain": [
       "Text(0.5, 1.0, 'home team scores 1979-2020')"
      ]
     },
     "execution_count": 52,
     "metadata": {},
     "output_type": "execute_result"
    },
    {
     "data": {
      "image/png": "[encoded data removed]",
      "text/plain": [
       "<Figure size 432x288 with 1 Axes>"
      ]
     },
     "metadata": {
      "needs_background": "light"
     },
     "output_type": "display_data"
    }
   ],
   "source": [
    "plt.scatter(table['season'], table['home_team_score'])\n",
    "plt.xlabel(\"season\")\n",
    "plt.ylabel(\"home team score\")\n",
    "plt.title(\"home team scores 1979-2020\")"
   ]
  },
  {
   "cell_type": "code",
   "execution_count": 53,
   "id": "bacterial-hierarchy",
   "metadata": {},
   "outputs": [
    {
     "data": {
      "text/plain": [
       "Text(0.5, 1.0, 'away team scores 1979-2020')"
      ]
     },
     "execution_count": 53,
     "metadata": {},
     "output_type": "execute_result"
    },
    {
     "data": {
      "image/png": "[encoded data removed]",
      "text/plain": [
       "<Figure size 432x288 with 1 Axes>"
      ]
     },
     "metadata": {
      "needs_background": "light"
     },
     "output_type": "display_data"
    }
   ],
   "source": [
    "plt.scatter(table['season'], table['away_team_score'])\n",
    "plt.xlabel(\"season\")\n",
    "plt.ylabel(\"away team score\")\n",
    "plt.title(\"away team scores 1979-2020\")"
   ]
  },
  {
   "cell_type": "markdown",
   "id": "numeric-perth",
   "metadata": {},
   "source": [
    "Now that we can see the general shape of the data for each home and away scoring, let's plot them next to eachother in a bar plot to start to get an idea of their relationship to one another:"
   ]
  },
  {
   "cell_type": "code",
   "execution_count": 54,
   "id": "intermediate-disney",
   "metadata": {
    "scrolled": false
   },
   "outputs": [
    {
     "data": {
      "text/plain": [
       "Text(0.5, 1.0, 'home (blue) and away (orange) team scores vs season')"
      ]
     },
     "execution_count": 54,
     "metadata": {},
     "output_type": "execute_result"
    },
    {
     "data": {
      "image/png": "[encoded data removed]",
      "text/plain": [
       "<Figure size 1152x576 with 1 Axes>"
      ]
     },
     "metadata": {
      "needs_background": "light"
     },
     "output_type": "display_data"
    }
   ],
   "source": [
    "plt.figure(figsize=(16, 8))\n",
    "plot = plt.subplot(111)\n",
    "plot.bar(table['season']-0.2, table['avg_home_score'],width=0.4)\n",
    "plot.bar(table['season']+0.2, table['avg_away_score'], width=0.4)\n",
    "plt.xlabel(\"season\")\n",
    "plt.ylabel(\"points\")\n",
    "plt.title(\"home (blue) and away (orange) team scores vs season\")"
   ]
  },
  {
   "cell_type": "markdown",
   "id": "velvet-interim",
   "metadata": {},
   "source": [
    "Above we can see the home and away scores plotted right next to eachother. Although this is a great view of the data, it doesn't seem to really tell us anything. Maybe we can get a better insight by plotting the away team score versus the home team score. Let's try it:"
   ]
  },
  {
   "cell_type": "code",
   "execution_count": 55,
   "id": "pregnant-acoustic",
   "metadata": {},
   "outputs": [
    {
     "data": {
      "text/plain": [
       "Text(0.5, 1.0, 'games on Christmas Day 1979-2020')"
      ]
     },
     "execution_count": 55,
     "metadata": {},
     "output_type": "execute_result"
    },
    {
     "data": {
      "image/png": "[encoded data removed]",
      "text/plain": [
       "<Figure size 432x288 with 1 Axes>"
      ]
     },
     "metadata": {
      "needs_background": "light"
     },
     "output_type": "display_data"
    }
   ],
   "source": [
    "plt.scatter(table['home_team_score'], table['away_team_score'])\n",
    "plt.xlabel(\"home team score\")\n",
    "plt.ylabel(\"away team score\")\n",
    "plt.title(\"games on Christmas Day 1979-2020\")"
   ]
  },
  {
   "cell_type": "markdown",
   "id": "bridal-desert",
   "metadata": {},
   "source": [
    "For the graph above, each datapoint represents a game, the x value represents the home team score and the y value represents the away team score. That looks interesting, and definetly looks more like a pattern. Maybe we can use averages to clean up the graph and get an even better look at the relationship:"
   ]
  },
  {
   "cell_type": "code",
   "execution_count": 56,
   "id": "illegal-exclusive",
   "metadata": {},
   "outputs": [
    {
     "data": {
      "text/plain": [
       "Text(0.5, 1.0, 'averages scores for games on Christmas Day 1979-2020')"
      ]
     },
     "execution_count": 56,
     "metadata": {},
     "output_type": "execute_result"
    },
    {
     "data": {
      "image/png": "[encoded data removed]",
      "text/plain": [
       "<Figure size 432x288 with 1 Axes>"
      ]
     },
     "metadata": {
      "needs_background": "light"
     },
     "output_type": "display_data"
    }
   ],
   "source": [
    "plt.scatter(table['avg_home_score'], table['avg_away_score'])\n",
    "plt.xlabel(\"average home team score\")\n",
    "plt.ylabel(\"average away team score\")\n",
    "plt.title(\"averages scores for games on Christmas Day 1979-2020\")"
   ]
  },
  {
   "cell_type": "markdown",
   "id": "referenced-thursday",
   "metadata": {},
   "source": [
    "Here we can start to see a relationship between average home score and average away score. "
   ]
  },
  {
   "cell_type": "markdown",
   "id": "discrete-approval",
   "metadata": {},
   "source": [
    "# Part 4: Hypothesis Testing / Machine Learning"
   ]
  },
  {
   "cell_type": "markdown",
   "id": "found-termination",
   "metadata": {},
   "source": [
    "Now we will test some hypotheses, possibly using machine learning. Our original hypotheses were that the home team has an advantage over the away team, and that scoring has increased since 1979."
   ]
  },
  {
   "cell_type": "markdown",
   "id": "engaging-atmosphere",
   "metadata": {},
   "source": [
    "## Home team advantage?"
   ]
  },
  {
   "cell_type": "markdown",
   "id": "sustained-exercise",
   "metadata": {},
   "source": [
    "The first hypothesis that we can test is wether or not the home team has an advantage over the away team. For this, we can plot the difference in the home and away scores. If the home team has an advantage, we should see that (home score) - (away score) are mostly positive values with some possible outliers. Let's see:"
   ]
  },
  {
   "cell_type": "code",
   "execution_count": 57,
   "id": "painted-expense",
   "metadata": {},
   "outputs": [
    {
     "data": {
      "text/plain": [
       "Text(0.5, 1.0, 'home score - away score vs season')"
      ]
     },
     "execution_count": 57,
     "metadata": {},
     "output_type": "execute_result"
    },
    {
     "data": {
      "image/png": "[encoded data removed]",
      "text/plain": [
       "<Figure size 432x288 with 1 Axes>"
      ]
     },
     "metadata": {
      "needs_background": "light"
     },
     "output_type": "display_data"
    }
   ],
   "source": [
    "plt.scatter(table['season'], table['home_team_score'] - table['away_team_score'])\n",
    "plt.xlabel(\"season\")\n",
    "plt.ylabel(\"home score - away score\")\n",
    "plt.title(\"home score - away score vs season\")"
   ]
  },
  {
   "cell_type": "markdown",
   "id": "czech-steps",
   "metadata": {},
   "source": [
    "Already we can see that there are a lot of negative values, hinting that we might be wrong. Let's try to get a cleaner view using the averages per season:"
   ]
  },
  {
   "cell_type": "code",
   "execution_count": 58,
   "id": "wrapped-intermediate",
   "metadata": {},
   "outputs": [
    {
     "data": {
      "text/plain": [
       "Text(0.5, 1.0, 'avg home score - avg away score vs season')"
      ]
     },
     "execution_count": 58,
     "metadata": {},
     "output_type": "execute_result"
    },
    {
     "data": {
      "image/png": "[encoded data removed]",
      "text/plain": [
       "<Figure size 432x288 with 1 Axes>"
      ]
     },
     "metadata": {
      "needs_background": "light"
     },
     "output_type": "display_data"
    }
   ],
   "source": [
    "plt.scatter(table['season'], table['avg_home_score'] - table['avg_away_score'])\n",
    "plt.xlabel(\"season\")\n",
    "plt.ylabel(\"avg home score - avg away score\")\n",
    "plt.title(\"avg home score - avg away score vs season\")"
   ]
  },
  {
   "cell_type": "markdown",
   "id": "comprehensive-suspension",
   "metadata": {},
   "source": [
    "That definitely clears things up a bit, but it is still a little bit all over the place. For this hypothesis, we don't really care about the season, so we can make a violin plot to show the distribution of points relative to eachother. The thicker the violin, the more datapoints that were in that range:"
   ]
  },
  {
   "cell_type": "code",
   "execution_count": 59,
   "id": "little-marriage",
   "metadata": {},
   "outputs": [
    {
     "data": {
      "text/plain": [
       "Text(0.5, 1.0, 'Distribution of differences in score over all seasons')"
      ]
     },
     "execution_count": 59,
     "metadata": {},
     "output_type": "execute_result"
    },
    {
     "data": {
      "image/png": "[encoded data removed]",
      "text/plain": [
       "<Figure size 432x288 with 1 Axes>"
      ]
     },
     "metadata": {
      "needs_background": "light"
     },
     "output_type": "display_data"
    }
   ],
   "source": [
    "#gathering differences into an array to plot in the same 'violin'\n",
    "avg_differences = []\n",
    "for i in range(len(avg_away_score)):\n",
    "    avg_differences.append(avg_home_score[i] - avg_away_score[i])\n",
    "\n",
    "#plotting in a violin plot \n",
    "plt.violinplot(avg_differences,[2],widths=4,showmeans=True)\n",
    "plt.xlabel(\"\")\n",
    "plt.ylabel(\"average home score - average away score\")\n",
    "plt.title(\"Distribution of differences in score over all seasons\")"
   ]
  },
  {
   "cell_type": "markdown",
   "id": "clinical-diabetes",
   "metadata": {},
   "source": [
    "Now we can see that the home team does outscore the away team, on average, most of the time, but it is definitely less overwhelming than I would have thought, with there still being some prominant negative values. However, there are more positive values and the positive values are larger. We can see that the violin becomes thickest at around (home score) - (away score) = 7, and then again at (home score) - (away score) = -1. Furthermore, the average line in the middle of the violin is at around +4, giving even more evidence that the home team does tend to outscore the away team."
   ]
  },
  {
   "cell_type": "markdown",
   "id": "streaming-determination",
   "metadata": {},
   "source": [
    "## Has scoring increased since 1979?"
   ]
  },
  {
   "cell_type": "markdown",
   "id": "lasting-crowd",
   "metadata": {},
   "source": [
    "### Linear Regression"
   ]
  },
  {
   "cell_type": "markdown",
   "id": "victorian-advancement",
   "metadata": {},
   "source": [
    "Now we can test the hypothesis that scoring in the NBA has increased over the years, as analyzed by scoring on the same day (12/25) for the past 40 years. Let's map our home team scoring on Christmas Day since 1979 and add a linear regression to hopefuly see a trend:"
   ]
  },
  {
   "cell_type": "code",
   "execution_count": 60,
   "id": "split-green",
   "metadata": {},
   "outputs": [
    {
     "data": {
      "text/plain": [
       "Text(0.5, 1.0, 'home team score vs season with liner regression')"
      ]
     },
     "execution_count": 60,
     "metadata": {},
     "output_type": "execute_result"
    },
    {
     "data": {
      "image/png": "[encoded data removed]",
      "text/plain": [
       "<Figure size 432x288 with 1 Axes>"
      ]
     },
     "metadata": {
      "needs_background": "light"
     },
     "output_type": "display_data"
    }
   ],
   "source": [
    "#fit a linear model to home team score vs season\n",
    "x = table['season'].values.reshape(-1,1)\n",
    "y = table['home_team_score'].values.reshape(-1,1)\n",
    "model = linear_model.LinearRegression().fit(x, y)\n",
    "predictions = model.predict(x)\n",
    "plt.scatter(table['season'], table['home_team_score'])\n",
    "plt.plot(table['season'], predictions, c='black')\n",
    "plt.xlabel(\"season\")\n",
    "plt.ylabel(\"home team score\")\n",
    "plt.title(\"home team score vs season with liner regression\")"
   ]
  },
  {
   "cell_type": "markdown",
   "id": "coordinated-google",
   "metadata": {},
   "source": [
    "Wow, here is something we were definitely not expecting to see: according to our regression line, scoring has actually DECREASED since 1979! Let's again get a less clustered view by using the averages:"
   ]
  },
  {
   "cell_type": "code",
   "execution_count": 61,
   "id": "reflected-portuguese",
   "metadata": {},
   "outputs": [
    {
     "data": {
      "text/plain": [
       "Text(0.5, 1.0, 'avg home team score vs season with liner regression')"
      ]
     },
     "execution_count": 61,
     "metadata": {},
     "output_type": "execute_result"
    },
    {
     "data": {
      "image/png": "[encoded data removed]",
      "text/plain": [
       "<Figure size 432x288 with 1 Axes>"
      ]
     },
     "metadata": {
      "needs_background": "light"
     },
     "output_type": "display_data"
    }
   ],
   "source": [
    "X = table['season'].values.reshape(-1,1)\n",
    "y = table['avg_home_score'].values.reshape(-1,1)\n",
    "model = linear_model.LinearRegression().fit(X, y)\n",
    "predictions = model.predict(X)\n",
    "plt.scatter(table['season'], table['avg_home_score'])\n",
    "plt.plot(table['season'], predictions, c='black')\n",
    "plt.xlabel(\"season\")\n",
    "plt.ylabel(\"avg home team score\")\n",
    "plt.title(\"avg home team score vs season with liner regression\")"
   ]
  },
  {
   "cell_type": "markdown",
   "id": "incoming-manitoba",
   "metadata": {},
   "source": [
    "In this view it is clear that while fitting average home team score vs season with a linear regression, we get a line with a negative slope, signifying that scoring is decreasing. One thing that you might notice, however, is that there are not a lot of datapoints that are on, or even very close to, the regression line. This should tell us that maybe a linear regression is noth the best way to fit this data. Let's take a look at our residuals, that is (avg home score) - (predicted score):"
   ]
  },
  {
   "cell_type": "code",
   "execution_count": 62,
   "id": "external-vitamin",
   "metadata": {},
   "outputs": [
    {
     "name": "stderr",
     "output_type": "stream",
     "text": [
      "<ipython-input-62-6bb5d60936eb>:1: SettingWithCopyWarning: \n",
      "A value is trying to be set on a copy of a slice from a DataFrame.\n",
      "Try using .loc[row_indexer,col_indexer] = value instead\n",
      "\n",
      "See the caveats in the documentation: https://pandas.pydata.org/pandas-docs/stable/user_guide/indexing.html#returning-a-view-versus-a-copy\n",
      "  table['predictions'] = pd.Series(predictions.flatten())\n",
      "<ipython-input-62-6bb5d60936eb>:2: SettingWithCopyWarning: \n",
      "A value is trying to be set on a copy of a slice from a DataFrame.\n",
      "Try using .loc[row_indexer,col_indexer] = value instead\n",
      "\n",
      "See the caveats in the documentation: https://pandas.pydata.org/pandas-docs/stable/user_guide/indexing.html#returning-a-view-versus-a-copy\n",
      "  table['residuals'] = table['avg_home_score'] - table['predictions']\n"
     ]
    },
    {
     "data": {
      "text/plain": [
       "Text(0.5, 1.0, 'average home score residuals')"
      ]
     },
     "execution_count": 62,
     "metadata": {},
     "output_type": "execute_result"
    },
    {
     "data": {
      "image/png": "[encoded data removed]",
      "text/plain": [
       "<Figure size 432x288 with 1 Axes>"
      ]
     },
     "metadata": {
      "needs_background": "light"
     },
     "output_type": "display_data"
    }
   ],
   "source": [
    "table['predictions'] = pd.Series(predictions.flatten())\n",
    "table['residuals'] = table['avg_home_score'] - table['predictions']\n",
    "plt.scatter(table['season'], table['residuals'])\n",
    "plt.xlabel(\"season\")\n",
    "plt.ylabel(\"home team score - predicted score\")\n",
    "plt.title(\"average home score residuals\")"
   ]
  },
  {
   "cell_type": "markdown",
   "id": "surprised-distinction",
   "metadata": {},
   "source": [
    "We can see here that our residuals are very varied. Let's try fitting a polynomial regression:"
   ]
  },
  {
   "cell_type": "markdown",
   "id": "endangered-investing",
   "metadata": {},
   "source": [
    "## Polynomial Regression"
   ]
  },
  {
   "cell_type": "markdown",
   "id": "electric-wichita",
   "metadata": {},
   "source": [
    "For more information: https://towardsdatascience.com/machine-learning-polynomial-regression-with-python-5328e4e8a386"
   ]
  },
  {
   "cell_type": "markdown",
   "id": "anticipated-capital",
   "metadata": {},
   "source": [
    "Instead of fitting our data with a straight line, we can fit our data with a polynomial. This will hopefully allow us to better respresent our data."
   ]
  },
  {
   "cell_type": "code",
   "execution_count": 63,
   "id": "documentary-applicant",
   "metadata": {},
   "outputs": [
    {
     "data": {
      "text/plain": [
       "Text(0.5, 1.0, 'quadratic regression avg home score vs season')"
      ]
     },
     "execution_count": 63,
     "metadata": {},
     "output_type": "execute_result"
    },
    {
     "data": {
      "image/png": "[encoded data removed]",
      "text/plain": [
       "<Figure size 432x288 with 1 Axes>"
      ]
     },
     "metadata": {
      "needs_background": "light"
     },
     "output_type": "display_data"
    }
   ],
   "source": [
    "from sklearn.preprocessing import PolynomialFeatures\n",
    "#here we can shoose the degree of our polynomial. Degree=2 means a quadratic\n",
    "poly_reg = PolynomialFeatures(degree=2)\n",
    "X_poly = poly_reg.fit_transform(X)\n",
    "pol_reg = LinearRegression()\n",
    "pol_reg.fit(X_poly, y)\n",
    "plt.scatter(X, y)\n",
    "plt.plot(X, pol_reg.predict(poly_reg.fit_transform(X)), color='black')\n",
    "plt.xlabel(\"season\")\n",
    "plt.ylabel(\"average home score\")\n",
    "plt.title(\"quadratic regression avg home score vs season\")"
   ]
  },
  {
   "cell_type": "markdown",
   "id": "agricultural-filter",
   "metadata": {},
   "source": [
    "It is clear to see that this line fits the data set better than a linear regression. It also reveals an upwards trend in scoring in the past 10 or 20 years. Let's raise the degree of our polynomial once more to see if any other relationships become obvious:"
   ]
  },
  {
   "cell_type": "code",
   "execution_count": 64,
   "id": "alien-commodity",
   "metadata": {},
   "outputs": [
    {
     "data": {
      "text/plain": [
       "Text(0.5, 1.0, 'cubic regression avg home score vs season')"
      ]
     },
     "execution_count": 64,
     "metadata": {},
     "output_type": "execute_result"
    },
    {
     "data": {
      "image/png": "[encoded data removed]",
      "text/plain": [
       "<Figure size 432x288 with 1 Axes>"
      ]
     },
     "metadata": {
      "needs_background": "light"
     },
     "output_type": "display_data"
    }
   ],
   "source": [
    "#degree=3 is a cubic polynomial\n",
    "X = table['season'].values.reshape(-1,1)\n",
    "y = table['avg_home_score'].values.reshape(-1,1)\n",
    "poly_reg = PolynomialFeatures(degree=3)\n",
    "X_poly = poly_reg.fit_transform(X)\n",
    "pol_reg = LinearRegression()\n",
    "pol_reg.fit(X_poly, y)\n",
    "plt.scatter(X, y)\n",
    "plt.plot(X, pol_reg.predict(poly_reg.fit_transform(X)), color='black')\n",
    "plt.xlabel(\"season\")\n",
    "plt.ylabel(\"average home score\")\n",
    "plt.title(\"cubic regression avg home score vs season\")"
   ]
  },
  {
   "cell_type": "markdown",
   "id": "successful-ridge",
   "metadata": {},
   "source": [
    "Here we can see that our model has predicted that scoring in 2020 is actually greater than in 1979! This is remarkable. It also reveals a sharp increase in scoring starting in the past 10 years and sharply rising in the last 5 years. Let's plot the average away scores as well, just to be sure:"
   ]
  },
  {
   "cell_type": "code",
   "execution_count": 65,
   "id": "female-nebraska",
   "metadata": {},
   "outputs": [
    {
     "data": {
      "text/plain": [
       "Text(0.5, 1.0, 'cubic regression avg away score vs season')"
      ]
     },
     "execution_count": 65,
     "metadata": {},
     "output_type": "execute_result"
    },
    {
     "data": {
      "image/png": "[encoded data removed]",
      "text/plain": [
       "<Figure size 432x288 with 1 Axes>"
      ]
     },
     "metadata": {
      "needs_background": "light"
     },
     "output_type": "display_data"
    }
   ],
   "source": [
    "X = table['season'].values.reshape(-1,1)\n",
    "y = table['avg_away_score'].values.reshape(-1,1)\n",
    "poly_reg = PolynomialFeatures(degree=3)\n",
    "X_poly = poly_reg.fit_transform(X)\n",
    "pol_reg = LinearRegression()\n",
    "pol_reg.fit(X_poly, y)\n",
    "plt.scatter(X, y)\n",
    "plt.plot(X, pol_reg.predict(poly_reg.fit_transform(X)), color='black')\n",
    "plt.xlabel(\"season\")\n",
    "plt.ylabel(\"average away score\")\n",
    "plt.title(\"cubic regression avg away score vs season\")"
   ]
  },
  {
   "cell_type": "markdown",
   "id": "oriental-technology",
   "metadata": {},
   "source": [
    "Great, we can see these results parallel that of the home teams, and perhaps the regression even fits better for the away scores."
   ]
  },
  {
   "cell_type": "markdown",
   "id": "filled-smooth",
   "metadata": {},
   "source": [
    "## Random Insights picked up from Data Exploration"
   ]
  },
  {
   "cell_type": "markdown",
   "id": "ranging-garden",
   "metadata": {},
   "source": [
    "We plotted earlier average away score vs average home score. Let's plot that again and fit it with a regression:"
   ]
  },
  {
   "cell_type": "code",
   "execution_count": 66,
   "id": "greatest-cream",
   "metadata": {},
   "outputs": [
    {
     "data": {
      "text/plain": [
       "Text(0.5, 1.0, 'liner regression for average scores on Christmas Day 1979-2020')"
      ]
     },
     "execution_count": 66,
     "metadata": {},
     "output_type": "execute_result"
    },
    {
     "data": {
      "image/png": "[encoded data removed]",
      "text/plain": [
       "<Figure size 432x288 with 1 Axes>"
      ]
     },
     "metadata": {
      "needs_background": "light"
     },
     "output_type": "display_data"
    }
   ],
   "source": [
    "#temporary new table with only prospective X and y for this plot\n",
    "table2 = table[['avg_home_score', 'avg_away_score']]\n",
    "X = table2.drop('avg_away_score', axis=1)\n",
    "y = table2['avg_away_score']\n",
    "\n",
    "model = linear_model.LinearRegression().fit(X, y)\n",
    "predictions = model.predict(X)\n",
    "plt.scatter(table['avg_home_score'], table['avg_away_score'])\n",
    "plt.plot(table['avg_home_score'], predictions, c='black')\n",
    "plt.xlabel(\"home team score\")\n",
    "plt.ylabel(\"away team score\")\n",
    "plt.title(\"liner regression for average scores on Christmas Day 1979-2020\")"
   ]
  },
  {
   "cell_type": "markdown",
   "id": "thorough-berkeley",
   "metadata": {},
   "source": [
    "Here we can see that as the average home score increases, so does the average away score. Interesting. This may give some insights as to how teams play off of eachother, or whether their offensive or defensive motivations depend on the other team. Not really relevant to either of out hypotheses but interesting nonetheless"
   ]
  },
  {
   "cell_type": "markdown",
   "id": "executed-tulsa",
   "metadata": {},
   "source": [
    "# Part 5: Communication of Insights Attained"
   ]
  },
  {
   "cell_type": "markdown",
   "id": "handled-throat",
   "metadata": {},
   "source": [
    "## Quick overview of our process"
   ]
  },
  {
   "cell_type": "markdown",
   "id": "harmful-privacy",
   "metadata": {},
   "source": [
    "Through this process, we gathered information, trimmed the fat and made it more useable, looked at our data with a microscope and from every angle, made some hypotheses, and finaly tested them with Machine Learning."
   ]
  },
  {
   "cell_type": "markdown",
   "id": "correct-raising",
   "metadata": {},
   "source": [
    "## Discoveries"
   ]
  },
  {
   "cell_type": "markdown",
   "id": "statistical-recovery",
   "metadata": {},
   "source": [
    "We discovered that home team score and away team score seem to have a linear relationship. As home team score increases, so does away team score. We also discovered that the home team on average outscores the away team, whether they have an outside advantage due to lack of travel or some other reason, we can't know for sure. Finaly, we discovered that the claims of NBA teams scoring more than ever do seem to be built on a kernel of truth. We took quite a journey on that one, going from seemingly proving the hypothesis wrong, to finding a better fit for our data and eventually proving it right with a polynomial regression, proving to us along the way that there are many different ways to view data, and many different insights to be attained from the same set of data."
   ]
  },
  {
   "cell_type": "markdown",
   "id": "theoretical-hawaii",
   "metadata": {},
   "source": [
    "## Relevant Links"
   ]
  },
  {
   "cell_type": "markdown",
   "id": "burning-hacker",
   "metadata": {},
   "source": [
    "* API we used: https://www.balldontlie.io/#introduction\n",
    "* More information on APIs: https://www.freecodecamp.org/news/what-is-an-api-in-english-please-b880a3214a82/\n",
    "\n",
    "* General Machine Learning info: https://towardsdatascience.com/machine-learning-basics-part-1-a36d38c7916\n",
    "* Machine Learning and Polynomial Regression in Python: https://towardsdatascience.com/machine-learning-polynomial-regression-with-python-5328e4e8a386\n",
    "\n",
    "* NBA Scoring article: https://www.usatoday.com/story/sports/nba/2018/10/25/nba-scoring-increase-points-up-2018-19-season/1765493002/\n",
    "* Evolution of the 3-point shot: https://www.thehoopsgeek.com/history-three-pointer/#:~:text=After%20the%20NBA%20moved%20back,to%2014.1%20in%202011%2D12!\n"
   ]
  }
 ],
 "metadata": {
  "kernelspec": {
   "display_name": "Python 3",
   "language": "python",
   "name": "python3"
  },
  "language_info": {
   "codemirror_mode": {
    "name": "ipython",
    "version": 3
   },
   "file_extension": ".py",
   "mimetype": "text/x-python",
   "name": "python",
   "nbconvert_exporter": "python",
   "pygments_lexer": "ipython3",
   "version": "3.8.6"
  }
 },
 "nbformat": 4,
 "nbformat_minor": 5
}
